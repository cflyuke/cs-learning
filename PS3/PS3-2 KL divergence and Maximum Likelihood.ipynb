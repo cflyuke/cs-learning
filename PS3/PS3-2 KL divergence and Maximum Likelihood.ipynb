{
 "cells": [
  {
   "cell_type": "markdown",
   "metadata": {},
   "source": [
    "## PS3-1 KL divergence and Maximum Likelihood"
   ]
  },
  {
   "cell_type": "markdown",
   "metadata": {},
   "source": [
    "### (a)"
   ]
  },
  {
   "cell_type": "markdown",
   "metadata": {},
   "source": [
    "\\begin{align*}\n",
    "    D_{KL}(P||Q) &= \\int Q(X) \\frac{P(X)}{Q(X)} log(\\frac{P(X)}{Q(X)}) \\\\\n",
    "     & \\geq \\int (\\sum Q(X)\\frac{P(X)}{Q(X)})log(\\sum Q(X)\\frac{P(X)}{Q(X)}) \\\\\n",
    "     & = 0\n",
    "\\end{align*}\n",
    "即使用 Jensen不等式即可，取等条件为P=Q"
   ]
  },
  {
   "cell_type": "markdown",
   "metadata": {},
   "source": [
    "### (b)"
   ]
  },
  {
   "cell_type": "markdown",
   "metadata": {},
   "source": [
    "\\begin{align*}\n",
    "D_{KL}(P(X, Y)||Q(X,Y)) &= \\sum_X\\sum_y P(x,y) log(\\frac{P(x,y)}{Q(x,y)}) \\\\\n",
    " & = \\sum_x\\sum_yP(x)P(y|x)log\\frac{P(x)P(y|x)}{Q(x)Q(y|x)} \\\\\n",
    " & = \\sum_x\\sum_yP(x)P(y|x)(log\\frac{P(x)}{Q(x)} + log\\frac{P(y|x)}{Q(y|x)}) \\\\\n",
    " & = \\sum_x\\sum_yP(x)P(y|x)log\\frac{P(x)}{Q(x)}\\sum_yP(y|x) + \\sum_x\\sum_yP(x)P(y|x)log\\frac{P(y|x)}{Q(y|x)}\\\\\n",
    " & = D_{KL}(P(X)||Q(X)) + D_KL(P(Y|X)||Q(Y|X))\n",
    "\\end{align*}"
   ]
  },
  {
   "cell_type": "markdown",
   "metadata": {},
   "source": [
    "### (c)"
   ]
  },
  {
   "cell_type": "markdown",
   "metadata": {},
   "source": [
    "\\begin{align*}\n",
    "    arg\\min_{\\theta}D_{KL}(\\hat{P}||P_{\\theta}) &= arg\\max_{\\theta}\\sum\\limits_{x\\in \\chi}\\hat{P}(x)logP_{\\theta}(x) \\\\\n",
    "    & = arg\\max_{\\theta}\\sum\\limits_{x\\in\\chi}(\\frac{1}{m}\\sum\\limits_{i=1}^m1\\{x^{(i)}=x\\})logP_{\\theta}(x) \\\\\n",
    "    & = arg\\max_{\\theta}\\sum\\limits_{i=1}^mlogP_{\\theta}(x^{(i)})\n",
    "\\end{align*}"
   ]
  }
 ],
 "metadata": {
  "kernelspec": {
   "display_name": "Python 3 (ipykernel)",
   "language": "python",
   "name": "python3"
  },
  "language_info": {
   "codemirror_mode": {
    "name": "ipython",
    "version": 3
   },
   "file_extension": ".py",
   "mimetype": "text/x-python",
   "name": "python",
   "nbconvert_exporter": "python",
   "pygments_lexer": "ipython3",
   "version": "3.12.7"
  }
 },
 "nbformat": 4,
 "nbformat_minor": 4
}
